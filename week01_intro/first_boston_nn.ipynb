{
 "cells": [
  {
   "cell_type": "markdown",
   "metadata": {
    "id": "GmI_rP7nPOVP"
   },
   "source": [
    "# Собираем первую нейросеть!"
   ]
  },
  {
   "cell_type": "code",
   "execution_count": 1,
   "metadata": {
    "colab": {
     "base_uri": "https://localhost:8080/"
    },
    "id": "oRX7rZSWO-Ly",
    "outputId": "cfa35d9e-d18d-4091-f279-1cd6a93ce387"
   },
   "outputs": [
    {
     "name": "stdout",
     "output_type": "stream",
     "text": [
      "2.4.1\n",
      "2.4.0\n"
     ]
    }
   ],
   "source": [
    "import tensorflow as tf\n",
    "from tensorflow import keras\n",
    "\n",
    "from tensorflow.keras import layers as L\n",
    "from tensorflow.keras import optimizers as opt\n",
    "from tensorflow.keras import Sequential, Model\n",
    "\n",
    "print(tf.__version__)\n",
    "print(keras.__version__)"
   ]
  },
  {
   "cell_type": "code",
   "execution_count": 2,
   "metadata": {
    "colab": {
     "base_uri": "https://localhost:8080/",
     "height": 359
    },
    "id": "oiEl3LkIQuM_",
    "outputId": "0f2fe4ea-7224-4cf0-aca0-dec386d9eda0"
   },
   "outputs": [
    {
     "data": {
      "text/html": [
       "<div>\n",
       "<style scoped>\n",
       "    .dataframe tbody tr th:only-of-type {\n",
       "        vertical-align: middle;\n",
       "    }\n",
       "\n",
       "    .dataframe tbody tr th {\n",
       "        vertical-align: top;\n",
       "    }\n",
       "\n",
       "    .dataframe thead th {\n",
       "        text-align: right;\n",
       "    }\n",
       "</style>\n",
       "<table border=\"1\" class=\"dataframe\">\n",
       "  <thead>\n",
       "    <tr style=\"text-align: right;\">\n",
       "      <th></th>\n",
       "      <th>CRIM</th>\n",
       "      <th>ZN</th>\n",
       "      <th>INDUS</th>\n",
       "      <th>CHAS</th>\n",
       "      <th>NOX</th>\n",
       "      <th>RM</th>\n",
       "      <th>AGE</th>\n",
       "      <th>DIS</th>\n",
       "      <th>RAD</th>\n",
       "      <th>TAX</th>\n",
       "      <th>PTRATIO</th>\n",
       "      <th>B</th>\n",
       "      <th>LSTAT</th>\n",
       "      <th>MEDV</th>\n",
       "    </tr>\n",
       "  </thead>\n",
       "  <tbody>\n",
       "    <tr>\n",
       "      <th>0</th>\n",
       "      <td>0.00632</td>\n",
       "      <td>18.0</td>\n",
       "      <td>2.31</td>\n",
       "      <td>0.0</td>\n",
       "      <td>0.538</td>\n",
       "      <td>6.575</td>\n",
       "      <td>65.2</td>\n",
       "      <td>4.0900</td>\n",
       "      <td>1.0</td>\n",
       "      <td>296.0</td>\n",
       "      <td>15.3</td>\n",
       "      <td>396.90</td>\n",
       "      <td>4.98</td>\n",
       "      <td>24.0</td>\n",
       "    </tr>\n",
       "    <tr>\n",
       "      <th>1</th>\n",
       "      <td>0.02731</td>\n",
       "      <td>0.0</td>\n",
       "      <td>7.07</td>\n",
       "      <td>0.0</td>\n",
       "      <td>0.469</td>\n",
       "      <td>6.421</td>\n",
       "      <td>78.9</td>\n",
       "      <td>4.9671</td>\n",
       "      <td>2.0</td>\n",
       "      <td>242.0</td>\n",
       "      <td>17.8</td>\n",
       "      <td>396.90</td>\n",
       "      <td>9.14</td>\n",
       "      <td>21.6</td>\n",
       "    </tr>\n",
       "    <tr>\n",
       "      <th>2</th>\n",
       "      <td>0.02729</td>\n",
       "      <td>0.0</td>\n",
       "      <td>7.07</td>\n",
       "      <td>0.0</td>\n",
       "      <td>0.469</td>\n",
       "      <td>7.185</td>\n",
       "      <td>61.1</td>\n",
       "      <td>4.9671</td>\n",
       "      <td>2.0</td>\n",
       "      <td>242.0</td>\n",
       "      <td>17.8</td>\n",
       "      <td>392.83</td>\n",
       "      <td>4.03</td>\n",
       "      <td>34.7</td>\n",
       "    </tr>\n",
       "    <tr>\n",
       "      <th>3</th>\n",
       "      <td>0.03237</td>\n",
       "      <td>0.0</td>\n",
       "      <td>2.18</td>\n",
       "      <td>0.0</td>\n",
       "      <td>0.458</td>\n",
       "      <td>6.998</td>\n",
       "      <td>45.8</td>\n",
       "      <td>6.0622</td>\n",
       "      <td>3.0</td>\n",
       "      <td>222.0</td>\n",
       "      <td>18.7</td>\n",
       "      <td>394.63</td>\n",
       "      <td>2.94</td>\n",
       "      <td>33.4</td>\n",
       "    </tr>\n",
       "    <tr>\n",
       "      <th>4</th>\n",
       "      <td>0.06905</td>\n",
       "      <td>0.0</td>\n",
       "      <td>2.18</td>\n",
       "      <td>0.0</td>\n",
       "      <td>0.458</td>\n",
       "      <td>7.147</td>\n",
       "      <td>54.2</td>\n",
       "      <td>6.0622</td>\n",
       "      <td>3.0</td>\n",
       "      <td>222.0</td>\n",
       "      <td>18.7</td>\n",
       "      <td>396.90</td>\n",
       "      <td>5.33</td>\n",
       "      <td>36.2</td>\n",
       "    </tr>\n",
       "    <tr>\n",
       "      <th>5</th>\n",
       "      <td>0.02985</td>\n",
       "      <td>0.0</td>\n",
       "      <td>2.18</td>\n",
       "      <td>0.0</td>\n",
       "      <td>0.458</td>\n",
       "      <td>6.430</td>\n",
       "      <td>58.7</td>\n",
       "      <td>6.0622</td>\n",
       "      <td>3.0</td>\n",
       "      <td>222.0</td>\n",
       "      <td>18.7</td>\n",
       "      <td>394.12</td>\n",
       "      <td>5.21</td>\n",
       "      <td>28.7</td>\n",
       "    </tr>\n",
       "    <tr>\n",
       "      <th>6</th>\n",
       "      <td>0.08829</td>\n",
       "      <td>12.5</td>\n",
       "      <td>7.87</td>\n",
       "      <td>0.0</td>\n",
       "      <td>0.524</td>\n",
       "      <td>6.012</td>\n",
       "      <td>66.6</td>\n",
       "      <td>5.5605</td>\n",
       "      <td>5.0</td>\n",
       "      <td>311.0</td>\n",
       "      <td>15.2</td>\n",
       "      <td>395.60</td>\n",
       "      <td>12.43</td>\n",
       "      <td>22.9</td>\n",
       "    </tr>\n",
       "    <tr>\n",
       "      <th>7</th>\n",
       "      <td>0.14455</td>\n",
       "      <td>12.5</td>\n",
       "      <td>7.87</td>\n",
       "      <td>0.0</td>\n",
       "      <td>0.524</td>\n",
       "      <td>6.172</td>\n",
       "      <td>96.1</td>\n",
       "      <td>5.9505</td>\n",
       "      <td>5.0</td>\n",
       "      <td>311.0</td>\n",
       "      <td>15.2</td>\n",
       "      <td>396.90</td>\n",
       "      <td>19.15</td>\n",
       "      <td>27.1</td>\n",
       "    </tr>\n",
       "    <tr>\n",
       "      <th>8</th>\n",
       "      <td>0.21124</td>\n",
       "      <td>12.5</td>\n",
       "      <td>7.87</td>\n",
       "      <td>0.0</td>\n",
       "      <td>0.524</td>\n",
       "      <td>5.631</td>\n",
       "      <td>100.0</td>\n",
       "      <td>6.0821</td>\n",
       "      <td>5.0</td>\n",
       "      <td>311.0</td>\n",
       "      <td>15.2</td>\n",
       "      <td>386.63</td>\n",
       "      <td>29.93</td>\n",
       "      <td>16.5</td>\n",
       "    </tr>\n",
       "    <tr>\n",
       "      <th>9</th>\n",
       "      <td>0.17004</td>\n",
       "      <td>12.5</td>\n",
       "      <td>7.87</td>\n",
       "      <td>0.0</td>\n",
       "      <td>0.524</td>\n",
       "      <td>6.004</td>\n",
       "      <td>85.9</td>\n",
       "      <td>6.5921</td>\n",
       "      <td>5.0</td>\n",
       "      <td>311.0</td>\n",
       "      <td>15.2</td>\n",
       "      <td>386.71</td>\n",
       "      <td>17.10</td>\n",
       "      <td>18.9</td>\n",
       "    </tr>\n",
       "  </tbody>\n",
       "</table>\n",
       "</div>"
      ],
      "text/plain": [
       "      CRIM    ZN  INDUS  CHAS    NOX  ...    TAX  PTRATIO       B  LSTAT  MEDV\n",
       "0  0.00632  18.0   2.31   0.0  0.538  ...  296.0     15.3  396.90   4.98  24.0\n",
       "1  0.02731   0.0   7.07   0.0  0.469  ...  242.0     17.8  396.90   9.14  21.6\n",
       "2  0.02729   0.0   7.07   0.0  0.469  ...  242.0     17.8  392.83   4.03  34.7\n",
       "3  0.03237   0.0   2.18   0.0  0.458  ...  222.0     18.7  394.63   2.94  33.4\n",
       "4  0.06905   0.0   2.18   0.0  0.458  ...  222.0     18.7  396.90   5.33  36.2\n",
       "5  0.02985   0.0   2.18   0.0  0.458  ...  222.0     18.7  394.12   5.21  28.7\n",
       "6  0.08829  12.5   7.87   0.0  0.524  ...  311.0     15.2  395.60  12.43  22.9\n",
       "7  0.14455  12.5   7.87   0.0  0.524  ...  311.0     15.2  396.90  19.15  27.1\n",
       "8  0.21124  12.5   7.87   0.0  0.524  ...  311.0     15.2  386.63  29.93  16.5\n",
       "9  0.17004  12.5   7.87   0.0  0.524  ...  311.0     15.2  386.71  17.10  18.9\n",
       "\n",
       "[10 rows x 14 columns]"
      ]
     },
     "execution_count": 2,
     "metadata": {
      "tags": []
     },
     "output_type": "execute_result"
    }
   ],
   "source": [
    "from sklearn.datasets import load_boston\n",
    "import pandas as pd\n",
    "\n",
    "boston_dataset = load_boston()\n",
    "\n",
    "df = pd.DataFrame(boston_dataset.data, columns=boston_dataset.feature_names)\n",
    "df['MEDV'] = boston_dataset.target\n",
    "\n",
    "df.head(n=10)"
   ]
  },
  {
   "cell_type": "code",
   "execution_count": 3,
   "metadata": {
    "colab": {
     "base_uri": "https://localhost:8080/"
    },
    "id": "e242Wt7YO-N8",
    "outputId": "85a6bf6c-67ab-4764-eb64-fb263800ee23"
   },
   "outputs": [
    {
     "data": {
      "text/plain": [
       "(354, 13)"
      ]
     },
     "execution_count": 3,
     "metadata": {
      "tags": []
     },
     "output_type": "execute_result"
    }
   ],
   "source": [
    "from sklearn.model_selection import train_test_split\n",
    "from sklearn.preprocessing import StandardScaler\n",
    "\n",
    "X = df.loc[:, df.columns != 'MEDV']\n",
    "y = df.loc[:, df.columns == 'MEDV']\n",
    "X_train, X_test, y_train, y_test = train_test_split(X, y, test_size=0.3, random_state=123)\n",
    "\n",
    "scaler = StandardScaler()\n",
    "X_train = scaler.fit_transform(X_train)\n",
    "X_test = scaler.transform(X_test)\n",
    "\n",
    "X_train.shape"
   ]
  },
  {
   "cell_type": "code",
   "execution_count": 4,
   "metadata": {
    "colab": {
     "base_uri": "https://localhost:8080/"
    },
    "id": "GYgOOwRHO-Qk",
    "outputId": "42051747-f148-4b0f-b520-0b6d6a8576a2"
   },
   "outputs": [
    {
     "data": {
      "text/plain": [
       "(354, 1)"
      ]
     },
     "execution_count": 4,
     "metadata": {
      "tags": []
     },
     "output_type": "execute_result"
    }
   ],
   "source": [
    "y_train.shape"
   ]
  },
  {
   "cell_type": "code",
   "execution_count": 5,
   "metadata": {
    "colab": {
     "base_uri": "https://localhost:8080/"
    },
    "id": "MVrrd28sO-TL",
    "outputId": "2b182c31-55cd-4f7c-dee3-b90e54f284b7"
   },
   "outputs": [
    {
     "name": "stdout",
     "output_type": "stream",
     "text": [
      "Model: \"Archibald\"\n",
      "_________________________________________________________________\n",
      "Layer (type)                 Output Shape              Param #   \n",
      "=================================================================\n",
      "dense_1 (Dense)              (None, 128)               1792      \n",
      "_________________________________________________________________\n",
      "dense_2 (Dense)              (None, 64)                8256      \n",
      "_________________________________________________________________\n",
      "dense_output (Dense)         (None, 1)                 65        \n",
      "=================================================================\n",
      "Total params: 10,113\n",
      "Trainable params: 10,113\n",
      "Non-trainable params: 0\n",
      "_________________________________________________________________\n"
     ]
    }
   ],
   "source": [
    "model = Sequential(name='Archibald')\n",
    "\n",
    "model.add(L.Dense(128, input_shape=(13, ), activation='relu', name='dense_1'))\n",
    "model.add(L.Dense(64, activation='relu', name='dense_2'))\n",
    "model.add(L.Dense(1, activation='linear', name='dense_output'))\n",
    "\n",
    "optimizer = opt.SGD(lr=1e-3)\n",
    "\n",
    "model.compile(optimizer=optimizer, loss='mse', metrics=['mae'])\n",
    "model.summary()"
   ]
  },
  {
   "cell_type": "code",
   "execution_count": 6,
   "metadata": {
    "colab": {
     "base_uri": "https://localhost:8080/"
    },
    "id": "wUcFEwpiPdLZ",
    "outputId": "49d2bbfe-2f9d-42bc-a000-d811f24bb3ec"
   },
   "outputs": [
    {
     "name": "stdout",
     "output_type": "stream",
     "text": [
      "Epoch 1/100\n",
      "11/11 [==============================] - 1s 45ms/step - loss: 561.6711 - mae: 21.7741 - val_loss: 359.1847 - val_mae: 17.1094\n",
      "Epoch 2/100\n",
      "11/11 [==============================] - 0s 5ms/step - loss: 223.5201 - mae: 12.3397 - val_loss: 63.6231 - val_mae: 6.4401\n",
      "Epoch 3/100\n",
      "11/11 [==============================] - 0s 5ms/step - loss: 53.5481 - mae: 5.3334 - val_loss: 28.1164 - val_mae: 4.2640\n",
      "Epoch 4/100\n",
      "11/11 [==============================] - 0s 5ms/step - loss: 25.1683 - mae: 3.7985 - val_loss: 19.3312 - val_mae: 3.2663\n",
      "Epoch 5/100\n",
      "11/11 [==============================] - 0s 5ms/step - loss: 21.7559 - mae: 3.3646 - val_loss: 16.0986 - val_mae: 2.9406\n",
      "Epoch 6/100\n",
      "11/11 [==============================] - 0s 5ms/step - loss: 17.2228 - mae: 3.1581 - val_loss: 14.4181 - val_mae: 3.0610\n",
      "Epoch 7/100\n",
      "11/11 [==============================] - 0s 4ms/step - loss: 18.6072 - mae: 3.1503 - val_loss: 14.7170 - val_mae: 2.6813\n",
      "Epoch 8/100\n",
      "11/11 [==============================] - 0s 5ms/step - loss: 22.0416 - mae: 3.1164 - val_loss: 13.3452 - val_mae: 2.7252\n",
      "Epoch 9/100\n",
      "11/11 [==============================] - 0s 5ms/step - loss: 17.8817 - mae: 2.9462 - val_loss: 11.9589 - val_mae: 2.5779\n",
      "Epoch 10/100\n",
      "11/11 [==============================] - 0s 4ms/step - loss: 12.0424 - mae: 2.4716 - val_loss: 11.0400 - val_mae: 2.4961\n",
      "Epoch 11/100\n",
      "11/11 [==============================] - 0s 4ms/step - loss: 13.9019 - mae: 2.6496 - val_loss: 10.3678 - val_mae: 2.4322\n",
      "Epoch 12/100\n",
      "11/11 [==============================] - 0s 5ms/step - loss: 12.7953 - mae: 2.5195 - val_loss: 9.6140 - val_mae: 2.3714\n",
      "Epoch 13/100\n",
      "11/11 [==============================] - 0s 4ms/step - loss: 16.3493 - mae: 2.6709 - val_loss: 9.0500 - val_mae: 2.3391\n",
      "Epoch 14/100\n",
      "11/11 [==============================] - 0s 4ms/step - loss: 13.0170 - mae: 2.4156 - val_loss: 8.3179 - val_mae: 2.2879\n",
      "Epoch 15/100\n",
      "11/11 [==============================] - 0s 5ms/step - loss: 12.6635 - mae: 2.4347 - val_loss: 8.3477 - val_mae: 2.2739\n",
      "Epoch 16/100\n",
      "11/11 [==============================] - 0s 5ms/step - loss: 8.7174 - mae: 2.1269 - val_loss: 7.8122 - val_mae: 2.2812\n",
      "Epoch 17/100\n",
      "11/11 [==============================] - 0s 5ms/step - loss: 12.5387 - mae: 2.5226 - val_loss: 7.0308 - val_mae: 2.0932\n",
      "Epoch 18/100\n",
      "11/11 [==============================] - 0s 4ms/step - loss: 13.1427 - mae: 2.4410 - val_loss: 7.1001 - val_mae: 2.1536\n",
      "Epoch 19/100\n",
      "11/11 [==============================] - 0s 5ms/step - loss: 9.2466 - mae: 2.1288 - val_loss: 6.5799 - val_mae: 2.0874\n",
      "Epoch 20/100\n",
      "11/11 [==============================] - 0s 5ms/step - loss: 11.3873 - mae: 2.3243 - val_loss: 6.2796 - val_mae: 1.9708\n",
      "Epoch 21/100\n",
      "11/11 [==============================] - 0s 5ms/step - loss: 12.9639 - mae: 2.4797 - val_loss: 6.0300 - val_mae: 1.9318\n",
      "Epoch 22/100\n",
      "11/11 [==============================] - 0s 5ms/step - loss: 9.0729 - mae: 2.1901 - val_loss: 6.2470 - val_mae: 2.0873\n",
      "Epoch 23/100\n",
      "11/11 [==============================] - 0s 5ms/step - loss: 11.0450 - mae: 2.2100 - val_loss: 5.7262 - val_mae: 1.9262\n",
      "Epoch 24/100\n",
      "11/11 [==============================] - 0s 5ms/step - loss: 9.8450 - mae: 2.1924 - val_loss: 5.5195 - val_mae: 1.8020\n",
      "Epoch 25/100\n",
      "11/11 [==============================] - 0s 5ms/step - loss: 10.5262 - mae: 2.2987 - val_loss: 6.2529 - val_mae: 2.1575\n",
      "Epoch 26/100\n",
      "11/11 [==============================] - 0s 5ms/step - loss: 9.3290 - mae: 2.1623 - val_loss: 5.6707 - val_mae: 2.0144\n",
      "Epoch 27/100\n",
      "11/11 [==============================] - 0s 5ms/step - loss: 13.1079 - mae: 2.2824 - val_loss: 5.2273 - val_mae: 1.8872\n",
      "Epoch 28/100\n",
      "11/11 [==============================] - 0s 4ms/step - loss: 9.4955 - mae: 2.1037 - val_loss: 5.7639 - val_mae: 2.0972\n",
      "Epoch 29/100\n",
      "11/11 [==============================] - 0s 4ms/step - loss: 12.4091 - mae: 2.2231 - val_loss: 5.2199 - val_mae: 1.7816\n",
      "Epoch 30/100\n",
      "11/11 [==============================] - 0s 5ms/step - loss: 11.4162 - mae: 2.2344 - val_loss: 5.2915 - val_mae: 1.9645\n",
      "Epoch 31/100\n",
      "11/11 [==============================] - 0s 5ms/step - loss: 7.8282 - mae: 2.0277 - val_loss: 5.0508 - val_mae: 1.8218\n",
      "Epoch 32/100\n",
      "11/11 [==============================] - 0s 5ms/step - loss: 8.6406 - mae: 2.1218 - val_loss: 5.9016 - val_mae: 2.0505\n",
      "Epoch 33/100\n",
      "11/11 [==============================] - 0s 5ms/step - loss: 8.7121 - mae: 2.0747 - val_loss: 5.1611 - val_mae: 1.8639\n",
      "Epoch 34/100\n",
      "11/11 [==============================] - 0s 5ms/step - loss: 9.6097 - mae: 2.1506 - val_loss: 5.1802 - val_mae: 1.9322\n",
      "Epoch 35/100\n",
      "11/11 [==============================] - 0s 5ms/step - loss: 9.0448 - mae: 2.0660 - val_loss: 5.4810 - val_mae: 1.9260\n",
      "Epoch 36/100\n",
      "11/11 [==============================] - 0s 5ms/step - loss: 9.9201 - mae: 2.1104 - val_loss: 5.0608 - val_mae: 1.9048\n",
      "Epoch 37/100\n",
      "11/11 [==============================] - 0s 5ms/step - loss: 7.3722 - mae: 1.9750 - val_loss: 6.5735 - val_mae: 2.2718\n",
      "Epoch 38/100\n",
      "11/11 [==============================] - 0s 5ms/step - loss: 7.0801 - mae: 1.9186 - val_loss: 6.6572 - val_mae: 2.1667\n",
      "Epoch 39/100\n",
      "11/11 [==============================] - 0s 5ms/step - loss: 9.2505 - mae: 2.1085 - val_loss: 5.2003 - val_mae: 1.9500\n",
      "Epoch 40/100\n",
      "11/11 [==============================] - 0s 5ms/step - loss: 9.0548 - mae: 1.9991 - val_loss: 5.3230 - val_mae: 1.8925\n",
      "Epoch 41/100\n",
      "11/11 [==============================] - 0s 5ms/step - loss: 7.3411 - mae: 1.9646 - val_loss: 6.4612 - val_mae: 2.1460\n",
      "Epoch 42/100\n",
      "11/11 [==============================] - 0s 5ms/step - loss: 9.6185 - mae: 2.0620 - val_loss: 4.9179 - val_mae: 1.7562\n",
      "Epoch 43/100\n",
      "11/11 [==============================] - 0s 5ms/step - loss: 11.1180 - mae: 2.1005 - val_loss: 5.5090 - val_mae: 1.9854\n",
      "Epoch 44/100\n",
      "11/11 [==============================] - 0s 5ms/step - loss: 8.4140 - mae: 2.0486 - val_loss: 5.5714 - val_mae: 1.9142\n",
      "Epoch 45/100\n",
      "11/11 [==============================] - 0s 5ms/step - loss: 8.7517 - mae: 2.0097 - val_loss: 6.8094 - val_mae: 2.1452\n",
      "Epoch 46/100\n",
      "11/11 [==============================] - 0s 5ms/step - loss: 7.4455 - mae: 1.9679 - val_loss: 5.4241 - val_mae: 1.8872\n",
      "Epoch 47/100\n",
      "11/11 [==============================] - 0s 5ms/step - loss: 9.2539 - mae: 2.0923 - val_loss: 5.7772 - val_mae: 2.0545\n",
      "Epoch 48/100\n",
      "11/11 [==============================] - 0s 5ms/step - loss: 6.7845 - mae: 1.9075 - val_loss: 6.4732 - val_mae: 2.0742\n",
      "Epoch 49/100\n",
      "11/11 [==============================] - 0s 5ms/step - loss: 8.4441 - mae: 1.9416 - val_loss: 5.7847 - val_mae: 1.9296\n",
      "Epoch 50/100\n",
      "11/11 [==============================] - 0s 4ms/step - loss: 6.5481 - mae: 1.8693 - val_loss: 5.9976 - val_mae: 1.9589\n",
      "Epoch 51/100\n",
      "11/11 [==============================] - 0s 5ms/step - loss: 6.9503 - mae: 1.8858 - val_loss: 5.7230 - val_mae: 2.0108\n",
      "Epoch 52/100\n",
      "11/11 [==============================] - 0s 6ms/step - loss: 8.8261 - mae: 1.9095 - val_loss: 5.8469 - val_mae: 1.9312\n",
      "Epoch 53/100\n",
      "11/11 [==============================] - 0s 6ms/step - loss: 7.1773 - mae: 1.8698 - val_loss: 6.1603 - val_mae: 2.0500\n",
      "Epoch 54/100\n",
      "11/11 [==============================] - 0s 5ms/step - loss: 7.6297 - mae: 1.8776 - val_loss: 6.6900 - val_mae: 2.0619\n",
      "Epoch 55/100\n",
      "11/11 [==============================] - 0s 5ms/step - loss: 11.7935 - mae: 2.2166 - val_loss: 6.2546 - val_mae: 2.0759\n",
      "Epoch 56/100\n",
      "11/11 [==============================] - 0s 5ms/step - loss: 5.9979 - mae: 1.7316 - val_loss: 6.2669 - val_mae: 2.0571\n",
      "Epoch 57/100\n",
      "11/11 [==============================] - 0s 5ms/step - loss: 6.9567 - mae: 1.9233 - val_loss: 6.5511 - val_mae: 2.0352\n",
      "Epoch 58/100\n",
      "11/11 [==============================] - 0s 5ms/step - loss: 7.2124 - mae: 1.8713 - val_loss: 7.1470 - val_mae: 2.1687\n",
      "Epoch 59/100\n",
      "11/11 [==============================] - 0s 5ms/step - loss: 7.1935 - mae: 1.9036 - val_loss: 6.7615 - val_mae: 2.1130\n",
      "Epoch 60/100\n",
      "11/11 [==============================] - 0s 5ms/step - loss: 7.0645 - mae: 1.9222 - val_loss: 6.6566 - val_mae: 2.0197\n",
      "Epoch 61/100\n",
      "11/11 [==============================] - 0s 5ms/step - loss: 8.9985 - mae: 1.9712 - val_loss: 6.7392 - val_mae: 1.9961\n",
      "Epoch 62/100\n",
      "11/11 [==============================] - 0s 5ms/step - loss: 7.2151 - mae: 1.9047 - val_loss: 6.2218 - val_mae: 1.9037\n",
      "Epoch 63/100\n",
      "11/11 [==============================] - 0s 5ms/step - loss: 7.0262 - mae: 1.9469 - val_loss: 6.4374 - val_mae: 2.0800\n",
      "Epoch 64/100\n",
      "11/11 [==============================] - 0s 5ms/step - loss: 8.0745 - mae: 1.8886 - val_loss: 8.1688 - val_mae: 2.1985\n",
      "Epoch 65/100\n",
      "11/11 [==============================] - 0s 5ms/step - loss: 7.5320 - mae: 1.9858 - val_loss: 5.8027 - val_mae: 1.8262\n",
      "Epoch 66/100\n",
      "11/11 [==============================] - 0s 5ms/step - loss: 6.2137 - mae: 1.7576 - val_loss: 6.7541 - val_mae: 2.0375\n",
      "Epoch 67/100\n",
      "11/11 [==============================] - 0s 5ms/step - loss: 6.6629 - mae: 1.8346 - val_loss: 9.0479 - val_mae: 2.3308\n",
      "Epoch 68/100\n",
      "11/11 [==============================] - 0s 4ms/step - loss: 7.9565 - mae: 1.9760 - val_loss: 6.9221 - val_mae: 1.9668\n",
      "Epoch 69/100\n",
      "11/11 [==============================] - 0s 5ms/step - loss: 8.6084 - mae: 2.0408 - val_loss: 7.8303 - val_mae: 2.0846\n",
      "Epoch 70/100\n",
      "11/11 [==============================] - 0s 5ms/step - loss: 6.8171 - mae: 1.9156 - val_loss: 7.7537 - val_mae: 2.0713\n",
      "Epoch 71/100\n",
      "11/11 [==============================] - 0s 5ms/step - loss: 6.9685 - mae: 1.8715 - val_loss: 7.4142 - val_mae: 2.0790\n",
      "Epoch 72/100\n",
      "11/11 [==============================] - 0s 5ms/step - loss: 6.4476 - mae: 1.8114 - val_loss: 7.8671 - val_mae: 2.0954\n",
      "Epoch 73/100\n",
      "11/11 [==============================] - 0s 5ms/step - loss: 8.0724 - mae: 1.9778 - val_loss: 8.3459 - val_mae: 2.1657\n",
      "Epoch 74/100\n",
      "11/11 [==============================] - 0s 5ms/step - loss: 7.1011 - mae: 1.8990 - val_loss: 7.6353 - val_mae: 2.0915\n",
      "Epoch 75/100\n",
      "11/11 [==============================] - 0s 6ms/step - loss: 6.4783 - mae: 1.7905 - val_loss: 8.1802 - val_mae: 2.2643\n",
      "Epoch 76/100\n",
      "11/11 [==============================] - 0s 7ms/step - loss: 8.3167 - mae: 1.9871 - val_loss: 7.1602 - val_mae: 2.0673\n",
      "Epoch 77/100\n",
      "11/11 [==============================] - 0s 5ms/step - loss: 8.0808 - mae: 1.9415 - val_loss: 7.8427 - val_mae: 2.0945\n",
      "Epoch 78/100\n",
      "11/11 [==============================] - 0s 5ms/step - loss: 7.0956 - mae: 1.9408 - val_loss: 7.7916 - val_mae: 2.0558\n",
      "Epoch 79/100\n",
      "11/11 [==============================] - 0s 5ms/step - loss: 7.0273 - mae: 1.8561 - val_loss: 8.0190 - val_mae: 2.1491\n",
      "Epoch 80/100\n",
      "11/11 [==============================] - 0s 5ms/step - loss: 7.2784 - mae: 1.9000 - val_loss: 7.8792 - val_mae: 2.1192\n",
      "Epoch 81/100\n",
      "11/11 [==============================] - 0s 5ms/step - loss: 7.5077 - mae: 1.9137 - val_loss: 7.3980 - val_mae: 2.0237\n",
      "Epoch 82/100\n",
      "11/11 [==============================] - 0s 5ms/step - loss: 7.0701 - mae: 1.8416 - val_loss: 8.7546 - val_mae: 2.1932\n",
      "Epoch 83/100\n",
      "11/11 [==============================] - 0s 5ms/step - loss: 5.5530 - mae: 1.7158 - val_loss: 8.3669 - val_mae: 2.1250\n",
      "Epoch 84/100\n",
      "11/11 [==============================] - 0s 5ms/step - loss: 5.4586 - mae: 1.7233 - val_loss: 11.6203 - val_mae: 2.4275\n",
      "Epoch 85/100\n",
      "11/11 [==============================] - 0s 5ms/step - loss: 7.5307 - mae: 1.9382 - val_loss: 7.6974 - val_mae: 2.0322\n",
      "Epoch 86/100\n",
      "11/11 [==============================] - 0s 5ms/step - loss: 6.0346 - mae: 1.7876 - val_loss: 9.0962 - val_mae: 2.1606\n",
      "Epoch 87/100\n",
      "11/11 [==============================] - 0s 5ms/step - loss: 6.2309 - mae: 1.8163 - val_loss: 9.6301 - val_mae: 2.2540\n",
      "Epoch 88/100\n",
      "11/11 [==============================] - 0s 5ms/step - loss: 7.1482 - mae: 1.8777 - val_loss: 8.2474 - val_mae: 2.0387\n",
      "Epoch 89/100\n",
      "11/11 [==============================] - 0s 5ms/step - loss: 9.0290 - mae: 1.9863 - val_loss: 8.0544 - val_mae: 2.0986\n",
      "Epoch 90/100\n",
      "11/11 [==============================] - 0s 5ms/step - loss: 7.2435 - mae: 1.9454 - val_loss: 9.3908 - val_mae: 2.2219\n",
      "Epoch 91/100\n",
      "11/11 [==============================] - 0s 5ms/step - loss: 7.4128 - mae: 1.9312 - val_loss: 8.5769 - val_mae: 2.1043\n",
      "Epoch 92/100\n",
      "11/11 [==============================] - 0s 5ms/step - loss: 6.4266 - mae: 1.8177 - val_loss: 8.1039 - val_mae: 2.0984\n",
      "Epoch 93/100\n",
      "11/11 [==============================] - 0s 5ms/step - loss: 8.6717 - mae: 1.8588 - val_loss: 7.3073 - val_mae: 1.9480\n",
      "Epoch 94/100\n",
      "11/11 [==============================] - 0s 5ms/step - loss: 7.2128 - mae: 1.8784 - val_loss: 7.5721 - val_mae: 2.0148\n",
      "Epoch 95/100\n",
      "11/11 [==============================] - 0s 5ms/step - loss: 6.5940 - mae: 1.8126 - val_loss: 7.2528 - val_mae: 1.9392\n",
      "Epoch 96/100\n",
      "11/11 [==============================] - 0s 5ms/step - loss: 6.4033 - mae: 1.7776 - val_loss: 7.3940 - val_mae: 1.9474\n",
      "Epoch 97/100\n",
      "11/11 [==============================] - 0s 5ms/step - loss: 7.5767 - mae: 1.8695 - val_loss: 8.0974 - val_mae: 2.0401\n",
      "Epoch 98/100\n",
      "11/11 [==============================] - 0s 5ms/step - loss: 6.1985 - mae: 1.7078 - val_loss: 7.6969 - val_mae: 1.9993\n",
      "Epoch 99/100\n",
      "11/11 [==============================] - 0s 5ms/step - loss: 7.0031 - mae: 1.8592 - val_loss: 8.5640 - val_mae: 2.0795\n",
      "Epoch 100/100\n",
      "11/11 [==============================] - 0s 5ms/step - loss: 8.5295 - mae: 1.8843 - val_loss: 7.9803 - val_mae: 2.1484\n"
     ]
    }
   ],
   "source": [
    "history = model.fit(X_train, y_train, epochs=100, validation_split=0.05)"
   ]
  },
  {
   "cell_type": "code",
   "execution_count": 7,
   "metadata": {
    "colab": {
     "base_uri": "https://localhost:8080/"
    },
    "id": "LP__vysyQVX0",
    "outputId": "d6fc4f03-6e29-465b-81ee-ceb6ae85cece"
   },
   "outputs": [
    {
     "data": {
      "text/plain": [
       "dict_keys(['loss', 'mae', 'val_loss', 'val_mae'])"
      ]
     },
     "execution_count": 7,
     "metadata": {
      "tags": []
     },
     "output_type": "execute_result"
    }
   ],
   "source": [
    "history.history.keys()"
   ]
  },
  {
   "cell_type": "code",
   "execution_count": 8,
   "metadata": {
    "colab": {
     "base_uri": "https://localhost:8080/",
     "height": 517
    },
    "id": "cQegNTIGPdOL",
    "outputId": "9d1cf22e-4c00-430e-9e41-a9392ebcb0f3"
   },
   "outputs": [
    {
     "data": {
      "text/html": [
       "<html>\n",
       "<head><meta charset=\"utf-8\" /></head>\n",
       "<body>\n",
       "    <div>\n",
       "            <script src=\"https://cdnjs.cloudflare.com/ajax/libs/mathjax/2.7.5/MathJax.js?config=TeX-AMS-MML_SVG\"></script><script type=\"text/javascript\">if (window.MathJax) {MathJax.Hub.Config({SVG: {font: \"STIX-Web\"}});}</script>\n",
       "                <script type=\"text/javascript\">window.PlotlyConfig = {MathJaxConfig: 'local'};</script>\n",
       "        <script src=\"https://cdn.plot.ly/plotly-latest.min.js\"></script>    \n",
       "            <div id=\"c0dfd44f-3613-46c3-bb42-40eb74ab6687\" class=\"plotly-graph-div\" style=\"height:500px; width:700px;\"></div>\n",
       "            <script type=\"text/javascript\">\n",
       "                \n",
       "                    window.PLOTLYENV=window.PLOTLYENV || {};\n",
       "                    \n",
       "                if (document.getElementById(\"c0dfd44f-3613-46c3-bb42-40eb74ab6687\")) {\n",
       "                    Plotly.newPlot(\n",
       "                        'c0dfd44f-3613-46c3-bb42-40eb74ab6687',\n",
       "                        [{\"name\": \"Train\", \"type\": \"scattergl\", \"y\": [506.20294189453125, 154.8553466796875, 43.20273208618164, 26.791248321533203, 22.326608657836914, 20.014081954956055, 18.327341079711914, 17.413633346557617, 16.519132614135742, 15.320731163024902, 14.873516082763672, 14.105466842651367, 13.613994598388672, 13.112005233764648, 12.74445915222168, 12.224862098693848, 11.911544799804688, 11.489374160766602, 11.373283386230469, 11.281641960144043, 10.965181350708008, 10.666248321533203, 10.513392448425293, 10.35023307800293, 10.23481559753418, 10.024237632751465, 10.047398567199707, 9.778600692749023, 9.761177062988281, 9.718348503112793, 9.539267539978027, 9.345352172851562, 9.326611518859863, 9.367356300354004, 9.109611511230469, 9.137422561645508, 8.83854866027832, 8.767316818237305, 8.660516738891602, 8.972834587097168, 8.643848419189453, 8.680892944335938, 8.467839241027832, 8.451597213745117, 8.356436729431152, 8.274492263793945, 8.273977279663086, 8.123329162597656, 8.220694541931152, 8.154767990112305, 8.113844871520996, 8.231330871582031, 8.026488304138184, 8.012611389160156, 8.137408256530762, 7.905594825744629, 7.880649566650391, 7.9029998779296875, 7.830115795135498, 7.779303550720215, 7.705739974975586, 7.780056953430176, 7.598388671875, 7.6324849128723145, 7.467146873474121, 7.535333633422852, 7.553401947021484, 7.5352606773376465, 7.7148118019104, 7.488986968994141, 7.375097274780273, 7.437412738800049, 7.371176719665527, 7.549166202545166, 7.263847827911377, 7.4235005378723145, 7.32131814956665, 7.325168609619141, 7.26910400390625, 7.268285751342773, 7.3773980140686035, 7.080350399017334, 7.34511661529541, 7.0730881690979, 7.209386348724365, 7.015659809112549, 6.929350852966309, 6.852728843688965, 6.884369850158691, 6.958770751953125, 6.9047112464904785, 6.9963531494140625, 6.9669342041015625, 6.8907294273376465, 6.879201889038086, 6.894761085510254, 6.732871055603027, 6.655849456787109, 6.704616069793701, 6.850218296051025]}, {\"name\": \"Valid\", \"type\": \"scattergl\", \"y\": [359.1846618652344, 63.62314987182617, 28.116392135620117, 19.33120346069336, 16.098609924316406, 14.418107986450195, 14.71696662902832, 13.345189094543457, 11.958870887756348, 11.04002857208252, 10.36780834197998, 9.614029884338379, 9.0499906539917, 8.317900657653809, 8.347667694091797, 7.812211990356445, 7.030767440795898, 7.100133895874023, 6.57986307144165, 6.27961540222168, 6.0299859046936035, 6.247030258178711, 5.726212024688721, 5.519500255584717, 6.25288724899292, 5.670686721801758, 5.22725248336792, 5.763879299163818, 5.219938278198242, 5.291481018066406, 5.050783634185791, 5.901586532592773, 5.161142349243164, 5.180195331573486, 5.480976581573486, 5.060822010040283, 6.573542594909668, 6.657238483428955, 5.200305461883545, 5.32299280166626, 6.461179256439209, 4.917879581451416, 5.509029865264893, 5.571401596069336, 6.809363842010498, 5.424082279205322, 5.777195930480957, 6.473202228546143, 5.784740924835205, 5.997610569000244, 5.722978591918945, 5.846925735473633, 6.160287857055664, 6.689959526062012, 6.254557132720947, 6.266874313354492, 6.551092624664307, 7.146970748901367, 6.761529922485352, 6.65656852722168, 6.739249229431152, 6.221822738647461, 6.437373161315918, 8.168828010559082, 5.802732467651367, 6.754053115844727, 9.047856330871582, 6.922123908996582, 7.830280780792236, 7.753743648529053, 7.414162635803223, 7.867149353027344, 8.345940589904785, 7.635279178619385, 8.180171966552734, 7.160219192504883, 7.842653274536133, 7.791604995727539, 8.018976211547852, 7.879220008850098, 7.398021221160889, 8.754582405090332, 8.366856575012207, 11.620259284973145, 7.697367191314697, 9.096220016479492, 9.63008975982666, 8.247424125671387, 8.054427146911621, 9.390829086303711, 8.57694149017334, 8.103937149047852, 7.307340621948242, 7.57211971282959, 7.2528228759765625, 7.394032955169678, 8.097373008728027, 7.696926593780518, 8.564008712768555, 7.980257511138916]}],\n",
       "                        {\"height\": 500, \"template\": {\"data\": {\"bar\": [{\"error_x\": {\"color\": \"#2a3f5f\"}, \"error_y\": {\"color\": \"#2a3f5f\"}, \"marker\": {\"line\": {\"color\": \"#E5ECF6\", \"width\": 0.5}}, \"type\": \"bar\"}], \"barpolar\": [{\"marker\": {\"line\": {\"color\": \"#E5ECF6\", \"width\": 0.5}}, \"type\": \"barpolar\"}], \"carpet\": [{\"aaxis\": {\"endlinecolor\": \"#2a3f5f\", \"gridcolor\": \"white\", \"linecolor\": \"white\", \"minorgridcolor\": \"white\", \"startlinecolor\": \"#2a3f5f\"}, \"baxis\": {\"endlinecolor\": \"#2a3f5f\", \"gridcolor\": \"white\", \"linecolor\": \"white\", \"minorgridcolor\": \"white\", \"startlinecolor\": \"#2a3f5f\"}, \"type\": \"carpet\"}], \"choropleth\": [{\"colorbar\": {\"outlinewidth\": 0, \"ticks\": \"\"}, \"type\": \"choropleth\"}], \"contour\": [{\"colorbar\": {\"outlinewidth\": 0, \"ticks\": \"\"}, \"colorscale\": [[0.0, \"#0d0887\"], [0.1111111111111111, \"#46039f\"], [0.2222222222222222, \"#7201a8\"], [0.3333333333333333, \"#9c179e\"], [0.4444444444444444, \"#bd3786\"], [0.5555555555555556, \"#d8576b\"], [0.6666666666666666, \"#ed7953\"], [0.7777777777777778, \"#fb9f3a\"], [0.8888888888888888, \"#fdca26\"], [1.0, \"#f0f921\"]], \"type\": \"contour\"}], \"contourcarpet\": [{\"colorbar\": {\"outlinewidth\": 0, \"ticks\": \"\"}, \"type\": \"contourcarpet\"}], \"heatmap\": [{\"colorbar\": {\"outlinewidth\": 0, \"ticks\": \"\"}, \"colorscale\": [[0.0, \"#0d0887\"], [0.1111111111111111, \"#46039f\"], [0.2222222222222222, \"#7201a8\"], [0.3333333333333333, \"#9c179e\"], [0.4444444444444444, \"#bd3786\"], [0.5555555555555556, \"#d8576b\"], [0.6666666666666666, \"#ed7953\"], [0.7777777777777778, \"#fb9f3a\"], [0.8888888888888888, \"#fdca26\"], [1.0, \"#f0f921\"]], \"type\": \"heatmap\"}], \"heatmapgl\": [{\"colorbar\": {\"outlinewidth\": 0, \"ticks\": \"\"}, \"colorscale\": [[0.0, \"#0d0887\"], [0.1111111111111111, \"#46039f\"], [0.2222222222222222, \"#7201a8\"], [0.3333333333333333, \"#9c179e\"], [0.4444444444444444, \"#bd3786\"], [0.5555555555555556, \"#d8576b\"], [0.6666666666666666, \"#ed7953\"], [0.7777777777777778, \"#fb9f3a\"], [0.8888888888888888, \"#fdca26\"], [1.0, \"#f0f921\"]], \"type\": \"heatmapgl\"}], \"histogram\": [{\"marker\": {\"colorbar\": {\"outlinewidth\": 0, \"ticks\": \"\"}}, \"type\": \"histogram\"}], \"histogram2d\": [{\"colorbar\": {\"outlinewidth\": 0, \"ticks\": \"\"}, \"colorscale\": [[0.0, \"#0d0887\"], [0.1111111111111111, \"#46039f\"], [0.2222222222222222, \"#7201a8\"], [0.3333333333333333, \"#9c179e\"], [0.4444444444444444, \"#bd3786\"], [0.5555555555555556, \"#d8576b\"], [0.6666666666666666, \"#ed7953\"], [0.7777777777777778, \"#fb9f3a\"], [0.8888888888888888, \"#fdca26\"], [1.0, \"#f0f921\"]], \"type\": \"histogram2d\"}], \"histogram2dcontour\": [{\"colorbar\": {\"outlinewidth\": 0, \"ticks\": \"\"}, \"colorscale\": [[0.0, \"#0d0887\"], [0.1111111111111111, \"#46039f\"], [0.2222222222222222, \"#7201a8\"], [0.3333333333333333, \"#9c179e\"], [0.4444444444444444, \"#bd3786\"], [0.5555555555555556, \"#d8576b\"], [0.6666666666666666, \"#ed7953\"], [0.7777777777777778, \"#fb9f3a\"], [0.8888888888888888, \"#fdca26\"], [1.0, \"#f0f921\"]], \"type\": \"histogram2dcontour\"}], \"mesh3d\": [{\"colorbar\": {\"outlinewidth\": 0, \"ticks\": \"\"}, \"type\": \"mesh3d\"}], \"parcoords\": [{\"line\": {\"colorbar\": {\"outlinewidth\": 0, \"ticks\": \"\"}}, \"type\": \"parcoords\"}], \"pie\": [{\"automargin\": true, \"type\": \"pie\"}], \"scatter\": [{\"marker\": {\"colorbar\": {\"outlinewidth\": 0, \"ticks\": \"\"}}, \"type\": \"scatter\"}], \"scatter3d\": [{\"line\": {\"colorbar\": {\"outlinewidth\": 0, \"ticks\": \"\"}}, \"marker\": {\"colorbar\": {\"outlinewidth\": 0, \"ticks\": \"\"}}, \"type\": \"scatter3d\"}], \"scattercarpet\": [{\"marker\": {\"colorbar\": {\"outlinewidth\": 0, \"ticks\": \"\"}}, \"type\": \"scattercarpet\"}], \"scattergeo\": [{\"marker\": {\"colorbar\": {\"outlinewidth\": 0, \"ticks\": \"\"}}, \"type\": \"scattergeo\"}], \"scattergl\": [{\"marker\": {\"colorbar\": {\"outlinewidth\": 0, \"ticks\": \"\"}}, \"type\": \"scattergl\"}], \"scattermapbox\": [{\"marker\": {\"colorbar\": {\"outlinewidth\": 0, \"ticks\": \"\"}}, \"type\": \"scattermapbox\"}], \"scatterpolar\": [{\"marker\": {\"colorbar\": {\"outlinewidth\": 0, \"ticks\": \"\"}}, \"type\": \"scatterpolar\"}], \"scatterpolargl\": [{\"marker\": {\"colorbar\": {\"outlinewidth\": 0, \"ticks\": \"\"}}, \"type\": \"scatterpolargl\"}], \"scatterternary\": [{\"marker\": {\"colorbar\": {\"outlinewidth\": 0, \"ticks\": \"\"}}, \"type\": \"scatterternary\"}], \"surface\": [{\"colorbar\": {\"outlinewidth\": 0, \"ticks\": \"\"}, \"colorscale\": [[0.0, \"#0d0887\"], [0.1111111111111111, \"#46039f\"], [0.2222222222222222, \"#7201a8\"], [0.3333333333333333, \"#9c179e\"], [0.4444444444444444, \"#bd3786\"], [0.5555555555555556, \"#d8576b\"], [0.6666666666666666, \"#ed7953\"], [0.7777777777777778, \"#fb9f3a\"], [0.8888888888888888, \"#fdca26\"], [1.0, \"#f0f921\"]], \"type\": \"surface\"}], \"table\": [{\"cells\": {\"fill\": {\"color\": \"#EBF0F8\"}, \"line\": {\"color\": \"white\"}}, \"header\": {\"fill\": {\"color\": \"#C8D4E3\"}, \"line\": {\"color\": \"white\"}}, \"type\": \"table\"}]}, \"layout\": {\"annotationdefaults\": {\"arrowcolor\": \"#2a3f5f\", \"arrowhead\": 0, \"arrowwidth\": 1}, \"coloraxis\": {\"colorbar\": {\"outlinewidth\": 0, \"ticks\": \"\"}}, \"colorscale\": {\"diverging\": [[0, \"#8e0152\"], [0.1, \"#c51b7d\"], [0.2, \"#de77ae\"], [0.3, \"#f1b6da\"], [0.4, \"#fde0ef\"], [0.5, \"#f7f7f7\"], [0.6, \"#e6f5d0\"], [0.7, \"#b8e186\"], [0.8, \"#7fbc41\"], [0.9, \"#4d9221\"], [1, \"#276419\"]], \"sequential\": [[0.0, \"#0d0887\"], [0.1111111111111111, \"#46039f\"], [0.2222222222222222, \"#7201a8\"], [0.3333333333333333, \"#9c179e\"], [0.4444444444444444, \"#bd3786\"], [0.5555555555555556, \"#d8576b\"], [0.6666666666666666, \"#ed7953\"], [0.7777777777777778, \"#fb9f3a\"], [0.8888888888888888, \"#fdca26\"], [1.0, \"#f0f921\"]], \"sequentialminus\": [[0.0, \"#0d0887\"], [0.1111111111111111, \"#46039f\"], [0.2222222222222222, \"#7201a8\"], [0.3333333333333333, \"#9c179e\"], [0.4444444444444444, \"#bd3786\"], [0.5555555555555556, \"#d8576b\"], [0.6666666666666666, \"#ed7953\"], [0.7777777777777778, \"#fb9f3a\"], [0.8888888888888888, \"#fdca26\"], [1.0, \"#f0f921\"]]}, \"colorway\": [\"#636efa\", \"#EF553B\", \"#00cc96\", \"#ab63fa\", \"#FFA15A\", \"#19d3f3\", \"#FF6692\", \"#B6E880\", \"#FF97FF\", \"#FECB52\"], \"font\": {\"color\": \"#2a3f5f\"}, \"geo\": {\"bgcolor\": \"white\", \"lakecolor\": \"white\", \"landcolor\": \"#E5ECF6\", \"showlakes\": true, \"showland\": true, \"subunitcolor\": \"white\"}, \"hoverlabel\": {\"align\": \"left\"}, \"hovermode\": \"closest\", \"mapbox\": {\"style\": \"light\"}, \"paper_bgcolor\": \"white\", \"plot_bgcolor\": \"#E5ECF6\", \"polar\": {\"angularaxis\": {\"gridcolor\": \"white\", \"linecolor\": \"white\", \"ticks\": \"\"}, \"bgcolor\": \"#E5ECF6\", \"radialaxis\": {\"gridcolor\": \"white\", \"linecolor\": \"white\", \"ticks\": \"\"}}, \"scene\": {\"xaxis\": {\"backgroundcolor\": \"#E5ECF6\", \"gridcolor\": \"white\", \"gridwidth\": 2, \"linecolor\": \"white\", \"showbackground\": true, \"ticks\": \"\", \"zerolinecolor\": \"white\"}, \"yaxis\": {\"backgroundcolor\": \"#E5ECF6\", \"gridcolor\": \"white\", \"gridwidth\": 2, \"linecolor\": \"white\", \"showbackground\": true, \"ticks\": \"\", \"zerolinecolor\": \"white\"}, \"zaxis\": {\"backgroundcolor\": \"#E5ECF6\", \"gridcolor\": \"white\", \"gridwidth\": 2, \"linecolor\": \"white\", \"showbackground\": true, \"ticks\": \"\", \"zerolinecolor\": \"white\"}}, \"shapedefaults\": {\"line\": {\"color\": \"#2a3f5f\"}}, \"ternary\": {\"aaxis\": {\"gridcolor\": \"white\", \"linecolor\": \"white\", \"ticks\": \"\"}, \"baxis\": {\"gridcolor\": \"white\", \"linecolor\": \"white\", \"ticks\": \"\"}, \"bgcolor\": \"#E5ECF6\", \"caxis\": {\"gridcolor\": \"white\", \"linecolor\": \"white\", \"ticks\": \"\"}}, \"title\": {\"x\": 0.05}, \"xaxis\": {\"automargin\": true, \"gridcolor\": \"white\", \"linecolor\": \"white\", \"ticks\": \"\", \"title\": {\"standoff\": 15}, \"zerolinecolor\": \"white\", \"zerolinewidth\": 2}, \"yaxis\": {\"automargin\": true, \"gridcolor\": \"white\", \"linecolor\": \"white\", \"ticks\": \"\", \"title\": {\"standoff\": 15}, \"zerolinecolor\": \"white\", \"zerolinewidth\": 2}}}, \"width\": 700, \"xaxis\": {\"title\": {\"text\": \"Epoch\"}}, \"yaxis\": {\"title\": {\"text\": \"Loss\"}}},\n",
       "                        {\"responsive\": true}\n",
       "                    ).then(function(){\n",
       "                            \n",
       "var gd = document.getElementById('c0dfd44f-3613-46c3-bb42-40eb74ab6687');\n",
       "var x = new MutationObserver(function (mutations, observer) {{\n",
       "        var display = window.getComputedStyle(gd).display;\n",
       "        if (!display || display === 'none') {{\n",
       "            console.log([gd, 'removed!']);\n",
       "            Plotly.purge(gd);\n",
       "            observer.disconnect();\n",
       "        }}\n",
       "}});\n",
       "\n",
       "// Listen for the removal of the full notebook cells\n",
       "var notebookContainer = gd.closest('#notebook-container');\n",
       "if (notebookContainer) {{\n",
       "    x.observe(notebookContainer, {childList: true});\n",
       "}}\n",
       "\n",
       "// Listen for the clearing of the current output cell\n",
       "var outputEl = gd.closest('.output');\n",
       "if (outputEl) {{\n",
       "    x.observe(outputEl, {childList: true});\n",
       "}}\n",
       "\n",
       "                        })\n",
       "                };\n",
       "                \n",
       "            </script>\n",
       "        </div>\n",
       "</body>\n",
       "</html>"
      ]
     },
     "metadata": {
      "tags": []
     },
     "output_type": "display_data"
    }
   ],
   "source": [
    "import plotly.graph_objects as go\n",
    "\n",
    "fig = go.Figure()\n",
    "fig.add_trace(go.Scattergl(y=history.history['loss'],\n",
    "                    name='Train'))\n",
    "\n",
    "fig.add_trace(go.Scattergl(y=history.history['val_loss'],\n",
    "                    name='Valid'))\n",
    "\n",
    "\n",
    "fig.update_layout(height=500, width=700,\n",
    "                  xaxis_title='Epoch',\n",
    "                  yaxis_title='Loss')\n",
    "fig.show()"
   ]
  },
  {
   "cell_type": "code",
   "execution_count": 9,
   "metadata": {
    "colab": {
     "base_uri": "https://localhost:8080/"
    },
    "id": "7zujCcpqPdRM",
    "outputId": "a843ab64-bf9b-4f76-b82d-a72aba303601"
   },
   "outputs": [
    {
     "data": {
      "text/plain": [
       "<tf.Variable 'dense_output/bias:0' shape=(1,) dtype=float32, numpy=array([0.6751438], dtype=float32)>"
      ]
     },
     "execution_count": 9,
     "metadata": {
      "tags": []
     },
     "output_type": "execute_result"
    }
   ],
   "source": [
    "model.layers[-1].weights[1]"
   ]
  },
  {
   "cell_type": "code",
   "execution_count": 10,
   "metadata": {
    "colab": {
     "base_uri": "https://localhost:8080/"
    },
    "id": "NAdUbStHPdTs",
    "outputId": "0a2b8ba5-9dfc-4ba7-bdc2-9b8dfc57e649"
   },
   "outputs": [
    {
     "name": "stdout",
     "output_type": "stream",
     "text": [
      "5/5 [==============================] - 0s 2ms/step - loss: 16.1091 - mae: 2.6637\n"
     ]
    },
    {
     "data": {
      "text/plain": [
       "[16.109121322631836, 2.663715124130249]"
      ]
     },
     "execution_count": 10,
     "metadata": {
      "tags": []
     },
     "output_type": "execute_result"
    }
   ],
   "source": [
    "model.evaluate(X_test, y_test)"
   ]
  },
  {
   "cell_type": "code",
   "execution_count": 11,
   "metadata": {
    "colab": {
     "base_uri": "https://localhost:8080/"
    },
    "id": "n_v1aeaFO-Vi",
    "outputId": "d0e6f3a0-7870-4ef7-a441-9bcdfc557b45"
   },
   "outputs": [
    {
     "data": {
      "text/plain": [
       "array([18.029684 , 26.706326 , 42.51579  , 20.86211  , 28.804913 ,\n",
       "       43.895737 , 24.043266 ,  9.155586 , 19.211794 , 31.430984 ,\n",
       "       19.43953  , 19.282705 , 13.843552 , 29.217299 , 19.019192 ,\n",
       "       17.428844 , 20.46085  , 37.51542  , 16.917141 , 17.691673 ,\n",
       "       11.963457 , 28.629955 , 33.604053 , 39.484913 , 37.65272  ,\n",
       "       21.870033 , 13.5245695, 19.030415 , 18.823854 , 21.430077 ,\n",
       "       24.585447 , 31.344624 , 12.344433 , 20.5318   , 21.037605 ,\n",
       "       32.675304 , 24.943874 , 12.589388 , 15.2570305, 41.793045 ,\n",
       "       28.333038 , 17.669468 , 25.355562 , 44.573593 , 21.364874 ,\n",
       "       23.806625 , 18.1876   , 21.189388 , 15.40742  , 21.102707 ,\n",
       "       32.061443 , 24.149057 , 17.867651 , 11.508037 , 21.396023 ,\n",
       "       14.265347 , 13.463394 , 10.854004 , 33.532665 , 14.354166 ,\n",
       "       17.774672 , 20.410408 , 16.925991 , 17.74041  , 21.910824 ,\n",
       "       21.352621 , 22.582146 , 23.425121 , 24.5578   , 25.387627 ,\n",
       "       20.135973 , 24.648123 , 15.273218 , 25.551014 , 15.4534235,\n",
       "       18.037254 , 10.496421 , 20.268929 , 25.501423 , 11.288005 ,\n",
       "       31.010908 ,  7.6724443, 22.736319 , 21.666965 , 19.670494 ,\n",
       "       21.901592 , 14.525665 , 16.324867 , 19.266596 , 27.157583 ,\n",
       "       12.221123 , 33.33498  , 22.257065 , 24.635689 , 30.618599 ,\n",
       "       30.5776   , 16.008913 , 31.461548 , 26.177372 , 34.97143  ,\n",
       "       20.29511  , 13.948794 , 47.110195 , 11.77052  , 21.824305 ,\n",
       "       27.508625 , 13.90407  , 12.717497 , 19.66196  , 22.50533  ,\n",
       "       21.72603  , 23.428875 , 13.886597 , 18.651182 , 17.264265 ,\n",
       "       20.720741 , 24.942999 , 12.398482 , 19.37411  , 17.563221 ,\n",
       "       25.791851 , 35.219677 , 22.64719  ,  9.184173 , 15.447694 ,\n",
       "       22.024141 , 20.705711 , 20.74207  , 12.906982 , 20.599098 ,\n",
       "       18.422821 , 11.01927  , 25.61745  ,  9.665476 , 15.564364 ,\n",
       "       15.496651 , 15.3864   , 12.191816 , 16.025078 , 19.452957 ,\n",
       "       21.98737  , 22.702065 , 11.27771  , 19.949667 , 39.83753  ,\n",
       "       15.120112 , 22.125683 , 19.545841 , 24.87371  , 18.04046  ,\n",
       "       16.724308 , 21.057129 ], dtype=float32)"
      ]
     },
     "execution_count": 11,
     "metadata": {
      "tags": []
     },
     "output_type": "execute_result"
    }
   ],
   "source": [
    "model.predict(X_test).T[0]"
   ]
  },
  {
   "cell_type": "code",
   "execution_count": 12,
   "metadata": {
    "colab": {
     "base_uri": "https://localhost:8080/"
    },
    "id": "x5dsnBbhRvtS",
    "outputId": "2a29a3dd-4774-40a3-8b25-799dade2f3f0"
   },
   "outputs": [
    {
     "data": {
      "text/plain": [
       "(28.405854810508238, 3.6913626771162584)"
      ]
     },
     "execution_count": 12,
     "metadata": {
      "tags": []
     },
     "output_type": "execute_result"
    }
   ],
   "source": [
    "from sklearn.linear_model import LinearRegression\n",
    "from sklearn.metrics import mean_squared_error, mean_absolute_error\n",
    "\n",
    "lr_model = LinearRegression()\n",
    "lr_model.fit(X_train, y_train)\n",
    "\n",
    "y_pred_lr = lr_model.predict(X_test)\n",
    "mean_squared_error(y_test, y_pred_lr), mean_absolute_error(y_test, y_pred_lr)"
   ]
  },
  {
   "cell_type": "markdown",
   "metadata": {
    "id": "BtmwSWe_SViS"
   },
   "source": [
    "   "
   ]
  }
 ],
 "metadata": {
  "colab": {
   "name": "first_boston_nn",
   "provenance": []
  },
  "kernelspec": {
   "display_name": "Python 3",
   "language": "python",
   "name": "python3"
  },
  "language_info": {
   "codemirror_mode": {
    "name": "ipython",
    "version": 3
   },
   "file_extension": ".py",
   "mimetype": "text/x-python",
   "name": "python",
   "nbconvert_exporter": "python",
   "pygments_lexer": "ipython3",
   "version": "3.9.1"
  }
 },
 "nbformat": 4,
 "nbformat_minor": 1
}
