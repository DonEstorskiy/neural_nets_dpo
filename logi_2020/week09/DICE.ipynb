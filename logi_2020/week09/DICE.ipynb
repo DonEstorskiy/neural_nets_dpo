{
 "cells": [
  {
   "cell_type": "code",
   "execution_count": 1,
   "metadata": {},
   "outputs": [],
   "source": [
    "import tensorflow as tf\n",
    "import tensorflow.keras.layers as L\n",
    "from tensorflow.keras.models import Model\n",
    "import tensorflow.keras as keras\n",
    "\n",
    "import numpy as np\n",
    "import matplotlib.pyplot as plt\n",
    "%matplotlib inline\n",
    "\n",
    "import pandas as pd\n",
    "import numpy as np\n",
    "import cv2 # подгрузка и работа с данными\n",
    "import os\n",
    "import tqdm # счетчик и красивый прогресс бар"
   ]
  },
  {
   "cell_type": "code",
   "execution_count": 2,
   "metadata": {},
   "outputs": [],
   "source": [
    "IMAGE_PATH = 'make_rofneft_predict/data/train/images/'\n",
    "MASK_PATH = 'make_rofneft_predict/data/train/train.csv'\n",
    "TEST_PATH = 'make_rofneft_predict/data/test/images/'\n",
    "SAMPLE_PATH = 'make_rofneft_predict/data/sample_submission.csv'\n",
    "\n",
    "def rle2mask(mask_rle, shape):\n",
    "    # эта функция взята с конкурса и я её оставил как есть\n",
    "    \"\"\"\n",
    "    mask_rle: run-length as string formated (start length)ы\n",
    "    shape: (width,height) of array to return\n",
    "    Returns numpy array, 1 - mask, 0 - background\n",
    "    \"\"\"\n",
    "    if mask_rle != mask_rle:\n",
    "        return np.zeros_like(shape)\n",
    "\n",
    "    s = mask_rle.split()\n",
    "    starts, lengths = [np.asarray(x, dtype=int) for x in (s[0:][::2], s[1:][::2])]\n",
    "    starts -= 1\n",
    "    ends = starts + lengths\n",
    "    img = np.zeros(shape[0]*shape[1], dtype=np.uint8)\n",
    "    for lo, hi in zip(starts, ends):\n",
    "        img[lo:hi] = 1\n",
    "    return img.reshape(shape).T"
   ]
  },
  {
   "cell_type": "code",
   "execution_count": 3,
   "metadata": {},
   "outputs": [],
   "source": [
    "class TrainDataset():\n",
    "    # немного переписанный загрузчик данных опять же с конкурса\n",
    "    def __init__(self, image_dir, train):\n",
    "        self.image_dir = image_dir\n",
    "        self.train = train\n",
    "        self.image_uses = []\n",
    "\n",
    "    def __getitem__(self, index):\n",
    "        \n",
    "        \n",
    "        img_name = self.train.iloc[index]['ImageId']\n",
    "        if img_name in self.image_uses:\n",
    "            return 'hups'\n",
    "        else:\n",
    "            self.image_uses.append(img_name)\n",
    "            path = os.path.join(self.image_dir, img_name)\n",
    "            img = cv2.imread(path,0)\n",
    "            img = cv2.resize(img,(384,384))\n",
    "\n",
    "            ce_mask = [\n",
    "                (i + 1) * rle2mask(rle, shape=(img.shape[0], img.shape[1])) \\\n",
    "                    for i, rle in enumerate(self.train[self.train['ImageId']==img_name]['EncodedPixels'])\n",
    "            ]\n",
    "            ce_mask = np.sum(ce_mask, axis=0, dtype=np.float32)\n",
    "\n",
    "\n",
    "            result = {\n",
    "                'image':img, \n",
    "                'mask': ce_mask,\n",
    "                'pick_name':img_name\n",
    "            }\n",
    "            return result\n",
    "    \n",
    "    def __len__(self, ):\n",
    "        return len(self.train)"
   ]
  },
  {
   "cell_type": "code",
   "execution_count": 4,
   "metadata": {},
   "outputs": [],
   "source": [
    "\n",
    "train = pd.read_csv(MASK_PATH)\n",
    "\n",
    "train_dataset = TrainDataset(\n",
    "    image_dir=IMAGE_PATH, \n",
    "    train=train)"
   ]
  },
  {
   "cell_type": "code",
   "execution_count": 5,
   "metadata": {},
   "outputs": [],
   "source": [
    "\n",
    "x_images = []\n",
    "y_images = []\n",
    "\n",
    "for i in train_dataset:\n",
    "    if type(i)==str:\n",
    "        pass\n",
    "    else:\n",
    "        x_images.append(i['image'])\n",
    "        y_images.append(i['mask'])"
   ]
  },
  {
   "cell_type": "code",
   "execution_count": 6,
   "metadata": {},
   "outputs": [],
   "source": [
    "# удобнее работать\n",
    "\n"
   ]
  },
  {
   "cell_type": "code",
   "execution_count": 7,
   "metadata": {},
   "outputs": [],
   "source": [
    "from sklearn.model_selection import train_test_split\n",
    "X_train,X_test,Y_train,Y_test = train_test_split(picture_model,mask_model,test_size=0.15)"
   ]
  },
  {
   "cell_type": "code",
   "execution_count": 8,
   "metadata": {},
   "outputs": [],
   "source": [
    "#### наш рукописный бейзлайн\n",
    "\n",
    "classes=[0,1,2,3,4,5,6,7]\n",
    "dict_start={}\n",
    "dict_end={}\n",
    "dict_start\n",
    "for ob_class in classes:\n",
    "    dict_start[ob_class]=[]\n",
    "    dict_end[ob_class]=[]\n",
    "for y_trr in Y_train:\n",
    "    first_col=y_trr[:,0]\n",
    "    dict_start[0].append(0)\n",
    "    for ob_class in classes:\n",
    "        for i in range(1,len(first_col)):\n",
    "            if first_col[i]==ob_class and first_col[i-1]!=ob_class:   \n",
    "                dict_start[ob_class].append(i)\n",
    "            elif first_col[i-1]==ob_class and first_col[i]!=ob_class:\n",
    "                dict_end[ob_class].append(i)\n",
    "                break"
   ]
  },
  {
   "cell_type": "code",
   "execution_count": 9,
   "metadata": {},
   "outputs": [],
   "source": [
    "dict_total={}\n",
    "for ob_class in classes:\n",
    "    dict_total[ob_class]=[np.median(dict_start[ob_class]).astype(int),np.median(dict_end[ob_class]).astype(int)]\n"
   ]
  },
  {
   "cell_type": "code",
   "execution_count": 10,
   "metadata": {},
   "outputs": [
    {
     "data": {
      "text/plain": [
       "Text(0.5, 1.0, 'y_images_baseline')"
      ]
     },
     "execution_count": 10,
     "metadata": {},
     "output_type": "execute_result"
    },
    {
     "data": {
      "image/png": "[encoded data removed]",
      "text/plain": [
       "<Figure size 1440x720 with 1 Axes>"
      ]
     },
     "metadata": {
      "needs_background": "light"
     },
     "output_type": "display_data"
    }
   ],
   "source": [
    "# Применяем наш бейзлайн, чтобы потом можно было сравнивать\n",
    "# Честно украденный из решения студента :)\n",
    "y_images_baseline=np.zeros(y_images[0].shape,dtype=int)\n",
    "for ob_cl,bound in dict_total.items():\n",
    "    y_images_baseline[bound[0]:bound[1],:]=ob_cl\n",
    "plt.figure(figsize=(20,10))\n",
    "plt.imshow(y_images_baseline)\n",
    "plt.title(\"y_images_baseline\")"
   ]
  },
  {
   "cell_type": "code",
   "execution_count": 11,
   "metadata": {},
   "outputs": [],
   "source": [
    "# собранная моделька, просто какая-то, без намека на оптимальность\n",
    "TARGET_WIDTH , TARGET_HEIGHT, IMG_CHANNELS = picture_model[0].shape\n",
    "\n",
    "# Вход в сетку \n",
    "inputs = L.Input((TARGET_WIDTH , TARGET_HEIGHT, IMG_CHANNELS))\n",
    "\n",
    "# 128\n",
    "down1 = L.Conv2D(16, (3, 3), activation=\"relu\", padding='same')(inputs)\n",
    "down1 = L.Conv2D(16, (3, 3), activation=\"relu\", padding='same')(down1)\n",
    "drop1 = L.Dropout(0.2)(down1)\n",
    "down1_pool = L.MaxPooling2D((2, 2))(drop1)\n",
    "\n",
    "# 64\n",
    "down2 = L.Conv2D(32, (3, 3), activation=\"relu\", padding='same')(down1_pool)\n",
    "down2 = L.Conv2D(32, (3, 3), activation=\"relu\", padding='same')(down2)\n",
    "drop2 = L.Dropout(0.2)(down2)\n",
    "down2_pool = L.MaxPooling2D((2, 2))(drop2)\n",
    "\n",
    "\n",
    "# 8\n",
    "center = L.Conv2D(64, (3, 3), activation=\"relu\", padding='same')(down2_pool)\n",
    "center = L.Conv2D(64, (3, 3), activation=\"relu\", padding='same')(center)\n",
    "center = L.Dropout(0.2)(center)\n",
    "\n",
    "# center\n",
    "\n",
    "up2 = L.UpSampling2D((2, 2),interpolation='bilinear')(center)\n",
    "up2 = L.concatenate([down2, up2], axis=3)  # ПРОКИНУЛИ СВЯЗЬ МЕЖДУ СТАРЫМ И НОВЫМ!!! \n",
    "\n",
    "up2 = L.Conv2D(32, (3, 3), activation=\"relu\", padding='same')(up2)\n",
    "up2 = L.Conv2D(32, (3, 3), activation=\"relu\", padding='same')(up2)\n",
    "drop_up2 = L.Dropout(0.5)(up2)\n",
    "\n",
    "# 64\n",
    "up1 = L.UpSampling2D((2, 2),interpolation='bilinear')(drop_up2)\n",
    "up1 = L.concatenate([down1, up1], axis=3) # ПРОКИНУЛИ СВЯЗЬ МЕЖДУ СТАРЫМ И НОВЫМ!!! \n",
    "\n",
    "up1 = L.Conv2D(16, (3, 3), activation=\"relu\", padding='same')(up1)\n",
    "up1 = L.Conv2D(16, (3, 3), activation=\"relu\", padding='same')(up1)\n",
    "drop_u1 = L.Dropout(0.2)(up1)\n",
    "\n",
    "\n",
    "\n",
    "# 128\n",
    "outputs = L.Conv2D(8, (1, 1),activation='softmax')(drop_u1)\n",
    "model_unet = Model(inputs=inputs, outputs=outputs)"
   ]
  },
  {
   "cell_type": "code",
   "execution_count": 14,
   "metadata": {},
   "outputs": [],
   "source": [
    "# наш вариант dice для софтмакса\n",
    "######### пишем сами"
   ]
  },
  {
   "cell_type": "markdown",
   "metadata": {},
   "source": [
    "Получаем бейзлайн"
   ]
  },
  {
   "cell_type": "code",
   "execution_count": 16,
   "metadata": {},
   "outputs": [],
   "source": [
    "## нам надо получить вектор из бейзлайна\n",
    "######### пишем сами"
   ]
  },
  {
   "cell_type": "code",
   "execution_count": null,
   "metadata": {},
   "outputs": [],
   "source": []
  },
  {
   "cell_type": "code",
   "execution_count": 19,
   "metadata": {},
   "outputs": [
    {
     "data": {
      "text/plain": [
       "<tf.Tensor: id=847, shape=(), dtype=float32, numpy=0.6305845>"
      ]
     },
     "execution_count": 19,
     "metadata": {},
     "output_type": "execute_result"
    }
   ],
   "source": [
    "# считаем метрику на бейзлайне, нам это нужно чтобы понять - делает ли вообще что-то наша модель\n",
    "dice_metric_base(y_true,y_images_baseline_vec)"
   ]
  },
  {
   "cell_type": "code",
   "execution_count": 20,
   "metadata": {},
   "outputs": [],
   "source": [
    "optimizer = tf.optimizers.Adam()\n",
    "\n",
    "# при обучении можем следить за метрикой\n",
    "model_unet.compile(\n",
    "    optimizer=optimizer, \n",
    "    loss=\"sparse_categorical_crossentropy\",\n",
    "     metrics = ['sparse_categorical_accuracy',dice_metric_acc_v]\n",
    ")"
   ]
  },
  {
   "cell_type": "code",
   "execution_count": 21,
   "metadata": {},
   "outputs": [
    {
     "name": "stderr",
     "output_type": "stream",
     "text": [
      "Using TensorFlow backend.\n"
     ]
    }
   ],
   "source": [
    "from keras.callbacks import ModelCheckpoint\n",
    "from keras.callbacks import EarlyStopping\n",
    "# ну и 2 наших самых важных callback\n",
    "# они тоже опираются на нашу метрику\n",
    "save_model = ModelCheckpoint('unet_small.h5',monitor='val_dice_metric_acc_v',save_best_only=True,mode='max')\n",
    "stop_model = EarlyStopping(monitor='val_dice_metric_acc_v',mode='max',patience=3)"
   ]
  },
  {
   "cell_type": "code",
   "execution_count": 22,
   "metadata": {},
   "outputs": [
    {
     "name": "stdout",
     "output_type": "stream",
     "text": [
      "Train on 761 samples, validate on 135 samples\n",
      "761/761 [==============================] - 262s 344ms/sample - loss: 1.8086 - sparse_categorical_accuracy: 0.4940 - dice_metric_acc_v: 0.0946 - val_loss: 1.5959 - val_sparse_categorical_accuracy: 0.5803 - val_dice_metric_acc_v: 0.0918\n"
     ]
    }
   ],
   "source": [
    "batch_size_full = 25\n",
    "history = model_unet.fit(X_train, Y_train,\n",
    "                    batch_size=batch_size_full,\n",
    "                    epochs=1,\n",
    "                    callbacks = [save_model,stop_model],\n",
    "                    validation_data=[X_test,Y_test]\n",
    "                   )"
   ]
  },
  {
   "cell_type": "code",
   "execution_count": null,
   "metadata": {},
   "outputs": [],
   "source": []
  }
 ],
 "metadata": {
  "kernelspec": {
   "display_name": "Python 3",
   "language": "python",
   "name": "python3"
  },
  "language_info": {
   "codemirror_mode": {
    "name": "ipython",
    "version": 3
   },
   "file_extension": ".py",
   "mimetype": "text/x-python",
   "name": "python",
   "nbconvert_exporter": "python",
   "pygments_lexer": "ipython3",
   "version": "3.7.4"
  }
 },
 "nbformat": 4,
 "nbformat_minor": 2
}
